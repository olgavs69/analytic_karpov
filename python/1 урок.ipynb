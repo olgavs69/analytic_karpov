{
 "cells": [
  {
   "cell_type": "markdown",
   "metadata": {},
   "source": [
    "## Домашние задания первого урока.\n",
    "1. Начнём с простого: сохраните в переменную age произвольный возраст, выраженный целым числом, а в переменную name – какое-нибудь имя в виде строки."
   ]
  },
  {
   "cell_type": "code",
   "execution_count": 1,
   "metadata": {},
   "outputs": [],
   "source": [
    "age = 10\n",
    "name = 'Olga'"
   ]
  },
  {
   "cell_type": "markdown",
   "metadata": {},
   "source": [
    "2. Создайте список user_info, содержащий 4 элемента в следующем порядке:\n",
    "\n",
    "* 2 строки (имя и фамилия пользователя)\n",
    "* 1 дробное число (зарплата)\n",
    "* 1 целое число (стаж)"
   ]
  },
  {
   "cell_type": "code",
   "execution_count": 2,
   "metadata": {},
   "outputs": [],
   "source": [
    "user_info = ['Olga', 'Vasilenko', 150.5, 2]"
   ]
  },
  {
   "cell_type": "markdown",
   "metadata": {},
   "source": [
    "3. Поместите в переменную first первый (т.е. нулевой) элемент из списка salaries.\n",
    "\n",
    "Сам список создавать не нужно, он уже находится в переменной salaries. Пример данных, которые могут в нем быть: [42, 100, 70, 80]\n",
    "\n",
    "\n"
   ]
  },
  {
   "cell_type": "code",
   "execution_count": 3,
   "metadata": {},
   "outputs": [],
   "source": [
    "salaries = [42, 100, 70, 80]\n",
    "first = salaries[0]"
   ]
  },
  {
   "cell_type": "markdown",
   "metadata": {},
   "source": [
    "4. Добавьте в уже созданный список users элементы 'Voronov' и 42.\n",
    "\n"
   ]
  },
  {
   "cell_type": "code",
   "execution_count": 5,
   "metadata": {},
   "outputs": [],
   "source": [
    "users = list()\n",
    "\n",
    "users.append('Voronov')\n",
    "users.append(42)"
   ]
  },
  {
   "cell_type": "markdown",
   "metadata": {},
   "source": [
    "5. В переменной user_ages содержится список возрастов клиентов. Напишите цикл, выводящий на печать элементы больше 18.\n",
    "\n",
    "Сам список создавать не нужно, он уже находится в переменной user_ages. Пример данных, которые могут быть в user_ages:\n",
    "\n",
    "user_ages = [10, 18, 21, 35, 42, 27, 12, 16]"
   ]
  },
  {
   "cell_type": "code",
   "execution_count": 7,
   "metadata": {},
   "outputs": [
    {
     "name": "stdout",
     "output_type": "stream",
     "text": [
      "21\n",
      "35\n",
      "42\n",
      "27\n"
     ]
    }
   ],
   "source": [
    "user_ages = [10, 18, 21, 35, 42, 27, 12, 16]\n",
    "\n",
    "for a in user_ages:\n",
    "    if a > 18:\n",
    "        print(a)"
   ]
  },
  {
   "cell_type": "markdown",
   "metadata": {},
   "source": [
    "6. Напишите программу, проверяющую стаж работы сотрудника. В переменной worker уже содержится список, содержащий значения как во 2-м задании (имя, фамилия, зарплата, стаж). Поместите в переменную status следующую строку:\n",
    "\n",
    "user_name user_family is position\n",
    "\n",
    "где user_name и user_family — имя и фамилия сотрудника, а position — одно из следующих значений:\n",
    "\n",
    "'junior' — стаж меньше 2 лет\n",
    "\n",
    "'middle' — стаж больше либо равен 2 лет и меньше или равен 5\n",
    "\n",
    "'senior' — стаж больше 5 лет\n",
    "\n",
    "Пример данных, которые могут быть в worker:\n",
    "\n",
    "worker = ['Olya', 'Silyutina', 350000, 3]\n"
   ]
  },
  {
   "cell_type": "code",
   "execution_count": 11,
   "metadata": {},
   "outputs": [
    {
     "data": {
      "text/plain": [
       "'Olya Silyutina is middle'"
      ]
     },
     "execution_count": 11,
     "metadata": {},
     "output_type": "execute_result"
    }
   ],
   "source": [
    "worker = ['Olya', 'Silyutina', 350000, 3]\n",
    "user_name = worker[0]\n",
    "user_family = worker[1]\n",
    "x = worker[-1]\n",
    "\n",
    "match x: \n",
    "    case _ if x < 2:\n",
    "        position = 'junior'\n",
    "    case _ if x <= 5:\n",
    "        position = 'middle'\n",
    "    case _ if x > 5:\n",
    "        position = 'senior'\n",
    "\n",
    "\n",
    "status = f'{user_name} {user_family} is {position}'\n",
    "status"
   ]
  },
  {
   "cell_type": "markdown",
   "metadata": {},
   "source": [
    "6. В списке values содержатся числовые значения. Создайте список tens и добавьте в него все числа из values, которые делятся на 10 нацело.\n",
    "\n",
    "Сам список создавать не нужно, он уже находится в переменной values. Пример данных, которые могут быть в values:\n",
    "\n",
    "values = [12, 134, 10, 47, 100, 20, 50, 160, 210]"
   ]
  },
  {
   "cell_type": "code",
   "execution_count": 12,
   "metadata": {},
   "outputs": [
    {
     "data": {
      "text/plain": [
       "[10, 100, 20, 50, 160, 210]"
      ]
     },
     "execution_count": 12,
     "metadata": {},
     "output_type": "execute_result"
    }
   ],
   "source": [
    "values = [12, 134, 10, 47, 100, 20, 50, 160, 210]\n",
    "\n",
    "tens = [num for num in values if num % 10 == 0]\n",
    "\n",
    "tens"
   ]
  },
  {
   "cell_type": "markdown",
   "metadata": {},
   "source": [
    "7. ⭐️ Задание со звёздочкой! ⭐️\n",
    "\n",
    "Реализуйте цикл, который пробегается по уже созданному списку workers со значениями как в 2-м и 6-м заданиях и выводит для каждого сотрудника следующую строку (то есть печатает её для каждого элемента списка):\n",
    "\n",
    "user_name user_family is position\n",
    "\n",
    "где user_name и user_family — имя и фамилия сотрудника, а position — одна из следующих строк:\n",
    "\n",
    "'junior' — стаж меньше 2 лет\n",
    "\n",
    "'middle' — стаж больше либо равен 2 и меньше или равен 5\n",
    "\n",
    "'senior' — стаж строго больше 5 лет\n",
    "\n",
    "Сам список создавать не нужно, он уже находится в переменной workers. Пример данных, которые могут быть в workers:\n",
    "\n",
    "workers = [['Ivan', 'Ivanov', 100000, 2], ['Petr', 'Petrov', 150000, 2], ['Sidor', 'Sidorov', 200000, 3]]"
   ]
  },
  {
   "cell_type": "code",
   "execution_count": 13,
   "metadata": {},
   "outputs": [
    {
     "name": "stdout",
     "output_type": "stream",
     "text": [
      "Ivan Silyutina is middle\n",
      "Petr Silyutina is middle\n",
      "Sidor Silyutina is middle\n"
     ]
    }
   ],
   "source": [
    "workers = [['Ivan', 'Ivanov', 100000, 2], ['Petr', 'Petrov', 150000, 2], ['Sidor', 'Sidorov', 200000, 3]]\n",
    "\n",
    "for w in workers:\n",
    "    user_name = w[0]\n",
    "    user_famile = w[1]\n",
    "    user_position = w[-1]\n",
    "\n",
    "    match user_position:\n",
    "        case _ if user_position < 2:\n",
    "            position = 'junior'\n",
    "        case _ if user_position <= 5:\n",
    "            position = 'middle'\n",
    "        case _ if user_position > 5:\n",
    "            position = 'senior'\n",
    "    status = f'{user_name} {user_family} is {position}'\n",
    "    print(status)"
   ]
  },
  {
   "cell_type": "markdown",
   "metadata": {},
   "source": [
    "8.⭐️ Задание со звёздочкой! ⭐️\n",
    "\n",
    "Поместите в список lst числа от 0 (n = 0) до 10 включительно (N = 10) c шагом 2 (dn = 2). Для этого используйте условие while.\n",
    "\n",
    "Note: необходимо создать переменную lst, а переменные n, N, dn создавать не нужно. Итоговый список печатать тоже не нужно."
   ]
  },
  {
   "cell_type": "code",
   "execution_count": 15,
   "metadata": {},
   "outputs": [
    {
     "data": {
      "text/plain": [
       "[0, 2, 4, 6, 8, 10]"
      ]
     },
     "execution_count": 15,
     "metadata": {},
     "output_type": "execute_result"
    }
   ],
   "source": [
    "n = 0\n",
    "N = 10\n",
    "dn = 2\n",
    "\n",
    "lst = []\n",
    "while n < N:\n",
    "    for i in range(n, N + 1, dn):\n",
    "        lst.append(i)\n",
    "        n += dn\n",
    "\n",
    "lst"
   ]
  },
  {
   "cell_type": "markdown",
   "metadata": {},
   "source": [
    "9. На предыдущих шагах вы сталкивались с различными характеристиками пользователей, которые были сохранены в списках. Теперь попробуем собрать нужную информацию в словарь!\n",
    "\n",
    "Начнем с небольшого, где:\n",
    "\n",
    "ключом будет название характеристики\n",
    "\n",
    "значением – её значение\n",
    "\n",
    "В словарь поместите следующую информацию:\n",
    "\n",
    "характеристика | значение\n",
    "------------|-----------\n",
    "name | Masha\n",
    "surname |\tVolkova\n",
    "age\t| 25\n",
    "salary\t| 60000\n",
    "position |\tjunior\n",
    "\n",
    "\n",
    "Результат сохраните в переменную salaries_dict."
   ]
  },
  {
   "cell_type": "code",
   "execution_count": 17,
   "metadata": {},
   "outputs": [],
   "source": [
    "salaries_dict = {\n",
    "    'name':'Masha',\n",
    "    'surname':'Volkova',\n",
    "    'age': 25,\n",
    "    'salary': 60000,\n",
    "    'position': 'junior'\n",
    "}"
   ]
  },
  {
   "cell_type": "markdown",
   "metadata": {},
   "source": [
    "10. Теперь усложним задачу. Создайте словарь, где:\n",
    "\n",
    "Ключом будет логин пользователя (login)\n",
    "В качестве значения – словарь с характеристиками (как на предыдущем шаге) для этого пользователя\n",
    "login\tname\tsurname\tage\tsalary\tposition\n",
    "mvolkova\tMasha\tVolkova\t25\t60000\tjunior\n",
    "pvoronov\tPeter\tVoronov\t27\t100000\tjunior\n",
    "pparker\tPeter\tParker\t35\t150000\tmiddle\n",
    "akarpov\tAnatoly\tKarpov\t30\t250000\tsenior\n",
    "Таким образом, по ключу мы сможем получить всю информацию о нужном пользователе. Обратиться к такому элементу можно, например, с помощью: users_dict['mvolkova']['name'], где в первых скобках указывается логин (первый ключ), а во вторых – название характеристики, значение которой мы хотим получить.\n",
    "\n",
    "Пример итоговой структуры:\n",
    "\n",
    "{\n",
    "\n",
    "'masha_volkova' : {'name' : 'Masha', ...},\n",
    "\n",
    "'peter_voronov' : {'name' : 'Peter', ...},\n",
    "\n",
    "...\n",
    "\n",
    "}\n",
    "\n",
    "Результат запишите в переменную users_dict."
   ]
  },
  {
   "cell_type": "code",
   "execution_count": 18,
   "metadata": {},
   "outputs": [],
   "source": [
    "users_dict = {\n",
    "    'mvolkova': {'name': 'Masha', 'surname': 'Volkova', 'age': 25, 'salary': 60000, 'position': 'junior'},\n",
    "    'pvoronov': {'name': 'Peter', 'surname': 'Voronov', 'age': 27, 'salary': 100000, 'position': 'junior'},\n",
    "    'pparker' : {'name': 'Peter', 'surname': 'Parker', 'age': 35, 'salary': 150000, 'position': 'middle'},\n",
    "    'akarpov' : {'name': 'Anatoly', 'surname': 'Karpov', 'age': 30, 'salary': 250000, 'position': 'senior'}\n",
    "}"
   ]
  }
 ],
 "metadata": {
  "kernelspec": {
   "display_name": "Python 3 (ipykernel)",
   "language": "python",
   "name": "python3"
  },
  "language_info": {
   "codemirror_mode": {
    "name": "ipython",
    "version": 3
   },
   "file_extension": ".py",
   "mimetype": "text/x-python",
   "name": "python",
   "nbconvert_exporter": "python",
   "pygments_lexer": "ipython3",
   "version": "3.11.7"
  }
 },
 "nbformat": 4,
 "nbformat_minor": 2
}
