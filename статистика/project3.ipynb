{
 "cells": [
  {
   "cell_type": "markdown",
   "metadata": {},
   "source": [
    "### Статистические выводы "
   ]
  },
  {
   "cell_type": "markdown",
   "metadata": {},
   "source": [
    "1. Загрузите данные, проверьте число наблюдений и столбцов, наличие пропусков. Убедитесь, что типы данных были прочитаны правильно. При необходимости – приведите переменные к нужным типам. \n",
    "\n",
    "2. Постройте график по числу поездок по дате и времени.\n",
    "\n",
    "3. Преобразуйте данные и посчитайте число поездок по дням. Визуализируйте результат. \n",
    "\n",
    "4. Используйте агрегированные данные по дням и посчитайте скользящее среднее с окном 3. В качестве ответа укажите полученное число аренд за 2015-07-09, округлив значение до целого.\n",
    "\n",
    "5. Посчитайте разницу между наблюдаемыми и значениями, подсчитанными с помощью скользящего среднего. Далее – найдите стандартное отклонение. \n",
    "\n",
    "6. Определите границы 99% доверительного интервала, добавьте данную информацию в датафрейм. \n",
    "\n",
    "7. Изучите аномально высокие значения и укажите день, когда число аренд было наибольшим. \n",
    "\n",
    "8. Найдите причину данной аномалии. Изучите аномально низкие значения, найдите день с наименьшим числом аренд. Найдите причину данной аномалии."
   ]
  },
  {
   "cell_type": "markdown",
   "metadata": {},
   "source": [
    "Описание данных: \n",
    "* timestamp – дата и время (точность до часа)\n",
    "* cnt – количество аренд велосипедов за этот час\n",
    "* t1 – температура, в С\n",
    "* t2 – температура \"ощущается как\", в С\n",
    "* hum – влажность (%)\n",
    "* wind_speed – скорость ветра, км/ч\n",
    "* weather_code – погодные условия: \n",
    "\n",
    "    * 1 – ясно (SKC)\n",
    "\n",
    "    * 2 – преимущественно ясно / встречаются отдельные облака (SCT)\n",
    "\n",
    "    * 3 – облачно / значительные облака (BKN)\n",
    "\n",
    "    * 4 – пасмурно (OVC)\n",
    "\n",
    "    * 7 – небольшой дождь Rain/ light Rain shower/ Light rain\n",
    "\n",
    "    * 10 – дождь с грозой\n",
    "\n",
    "    * 26 – снегопад\n",
    "\n",
    "    * 94 – ледяной туман (да, такое бывает!)\n",
    "\n",
    "* isholiday – является ли день праздником (1 – праздник, 0 – нет)\n",
    "* isweekend – является ли день выходным (1 – выходной, 0 – нет)\n",
    "* season – метеорологический сезон (0 – весна, 1 – лето, 2 – осень, 3 – зима)"
   ]
  },
  {
   "cell_type": "code",
   "execution_count": 11,
   "metadata": {},
   "outputs": [],
   "source": [
    "import pandas as pd\n",
    "import numpy as np\n",
    "import matplotlib.pyplot as plt\n",
    "import seaborn as sns\n",
    "import scipy.stats as stats\n",
    "import json \n",
    "import os\n",
    "\n",
    "from kaggle.api.kaggle_api_extended import KaggleApi"
   ]
  },
  {
   "cell_type": "markdown",
   "metadata": {},
   "source": [
    "1. Загрузите данные, проверьте число наблюдений и столбцов, наличие пропусков. Убедитесь, что типы данных были прочитаны правильно. При необходимости – приведите переменные к нужным типам. "
   ]
  },
  {
   "cell_type": "code",
   "execution_count": 80,
   "metadata": {},
   "outputs": [
    {
     "name": "stdout",
     "output_type": "stream",
     "text": [
      "Dataset URL: https://www.kaggle.com/datasets/hmavrodiev/london-bike-sharing-dataset\n"
     ]
    }
   ],
   "source": [
    "os.chdir(\"C:/api\")\n",
    "data = {\"username\":\"username\",\"key\":\"tockenvalue\"}\n",
    "with open('kaggle.json', 'w') as outfile:\n",
    "    json.dump(data, outfile)\n",
    "\n",
    "api = KaggleApi('kaggle.json')\n",
    "api.authenticate()\n",
    "\n",
    "url = \"hmavrodiev/london-bike-sharing-dataset\"\n",
    "\n",
    "api.dataset_download_files(url, path=r'C:\\Users\\User\\notebooks\\analytic_karpov\\статистика\\datasets',\n",
    "                           unzip=True)                  "
   ]
  },
  {
   "cell_type": "code",
   "execution_count": 81,
   "metadata": {},
   "outputs": [],
   "source": [
    "url = r'C:\\Users\\User\\notebooks\\analytic_karpov\\статистика\\datasets\\london_merged.csv'"
   ]
  },
  {
   "cell_type": "code",
   "execution_count": 82,
   "metadata": {},
   "outputs": [
    {
     "data": {
      "text/html": [
       "<div>\n",
       "<style scoped>\n",
       "    .dataframe tbody tr th:only-of-type {\n",
       "        vertical-align: middle;\n",
       "    }\n",
       "\n",
       "    .dataframe tbody tr th {\n",
       "        vertical-align: top;\n",
       "    }\n",
       "\n",
       "    .dataframe thead th {\n",
       "        text-align: right;\n",
       "    }\n",
       "</style>\n",
       "<table border=\"1\" class=\"dataframe\">\n",
       "  <thead>\n",
       "    <tr style=\"text-align: right;\">\n",
       "      <th></th>\n",
       "      <th>timestamp</th>\n",
       "      <th>cnt</th>\n",
       "      <th>t1</th>\n",
       "      <th>t2</th>\n",
       "      <th>hum</th>\n",
       "      <th>wind_speed</th>\n",
       "      <th>weather_code</th>\n",
       "      <th>is_holiday</th>\n",
       "      <th>is_weekend</th>\n",
       "      <th>season</th>\n",
       "    </tr>\n",
       "  </thead>\n",
       "  <tbody>\n",
       "    <tr>\n",
       "      <th>0</th>\n",
       "      <td>2015-01-04 00:00:00</td>\n",
       "      <td>182</td>\n",
       "      <td>3.0</td>\n",
       "      <td>2.0</td>\n",
       "      <td>93.0</td>\n",
       "      <td>6.0</td>\n",
       "      <td>3.0</td>\n",
       "      <td>0.0</td>\n",
       "      <td>1.0</td>\n",
       "      <td>3.0</td>\n",
       "    </tr>\n",
       "    <tr>\n",
       "      <th>1</th>\n",
       "      <td>2015-01-04 01:00:00</td>\n",
       "      <td>138</td>\n",
       "      <td>3.0</td>\n",
       "      <td>2.5</td>\n",
       "      <td>93.0</td>\n",
       "      <td>5.0</td>\n",
       "      <td>1.0</td>\n",
       "      <td>0.0</td>\n",
       "      <td>1.0</td>\n",
       "      <td>3.0</td>\n",
       "    </tr>\n",
       "    <tr>\n",
       "      <th>2</th>\n",
       "      <td>2015-01-04 02:00:00</td>\n",
       "      <td>134</td>\n",
       "      <td>2.5</td>\n",
       "      <td>2.5</td>\n",
       "      <td>96.5</td>\n",
       "      <td>0.0</td>\n",
       "      <td>1.0</td>\n",
       "      <td>0.0</td>\n",
       "      <td>1.0</td>\n",
       "      <td>3.0</td>\n",
       "    </tr>\n",
       "  </tbody>\n",
       "</table>\n",
       "</div>"
      ],
      "text/plain": [
       "             timestamp  cnt   t1   t2   hum  wind_speed  weather_code  \\\n",
       "0  2015-01-04 00:00:00  182  3.0  2.0  93.0         6.0           3.0   \n",
       "1  2015-01-04 01:00:00  138  3.0  2.5  93.0         5.0           1.0   \n",
       "2  2015-01-04 02:00:00  134  2.5  2.5  96.5         0.0           1.0   \n",
       "\n",
       "   is_holiday  is_weekend  season  \n",
       "0         0.0         1.0     3.0  \n",
       "1         0.0         1.0     3.0  \n",
       "2         0.0         1.0     3.0  "
      ]
     },
     "execution_count": 82,
     "metadata": {},
     "output_type": "execute_result"
    }
   ],
   "source": [
    "data_london = pd.read_csv(url)\n",
    "data_london.head(3)"
   ]
  },
  {
   "cell_type": "code",
   "execution_count": 83,
   "metadata": {},
   "outputs": [
    {
     "name": "stdout",
     "output_type": "stream",
     "text": [
      "<class 'pandas.core.frame.DataFrame'>\n",
      "RangeIndex: 17414 entries, 0 to 17413\n",
      "Data columns (total 10 columns):\n",
      " #   Column        Non-Null Count  Dtype  \n",
      "---  ------        --------------  -----  \n",
      " 0   timestamp     17414 non-null  object \n",
      " 1   cnt           17414 non-null  int64  \n",
      " 2   t1            17414 non-null  float64\n",
      " 3   t2            17414 non-null  float64\n",
      " 4   hum           17414 non-null  float64\n",
      " 5   wind_speed    17414 non-null  float64\n",
      " 6   weather_code  17414 non-null  float64\n",
      " 7   is_holiday    17414 non-null  float64\n",
      " 8   is_weekend    17414 non-null  float64\n",
      " 9   season        17414 non-null  float64\n",
      "dtypes: float64(8), int64(1), object(1)\n",
      "memory usage: 1.3+ MB\n"
     ]
    }
   ],
   "source": [
    "data_london.info()"
   ]
  },
  {
   "cell_type": "code",
   "execution_count": 84,
   "metadata": {},
   "outputs": [
    {
     "data": {
      "text/plain": [
       "timestamp       0\n",
       "cnt             0\n",
       "t1              0\n",
       "t2              0\n",
       "hum             0\n",
       "wind_speed      0\n",
       "weather_code    0\n",
       "is_holiday      0\n",
       "is_weekend      0\n",
       "season          0\n",
       "dtype: int64"
      ]
     },
     "execution_count": 84,
     "metadata": {},
     "output_type": "execute_result"
    }
   ],
   "source": [
    "data_london.isnull().sum()"
   ]
  },
  {
   "cell_type": "code",
   "execution_count": 85,
   "metadata": {},
   "outputs": [
    {
     "data": {
      "text/plain": [
       "timestamp       0\n",
       "cnt             0\n",
       "t1              0\n",
       "t2              0\n",
       "hum             0\n",
       "wind_speed      0\n",
       "weather_code    0\n",
       "is_holiday      0\n",
       "is_weekend      0\n",
       "season          0\n",
       "dtype: int64"
      ]
     },
     "execution_count": 85,
     "metadata": {},
     "output_type": "execute_result"
    }
   ],
   "source": [
    "data_london.isna().sum()"
   ]
  },
  {
   "cell_type": "markdown",
   "metadata": {},
   "source": [
    "2. Постройте график по числу поездок по дате и времени.\n"
   ]
  },
  {
   "cell_type": "code",
   "execution_count": 90,
   "metadata": {},
   "outputs": [
    {
     "name": "stderr",
     "output_type": "stream",
     "text": [
      "C:\\Users\\User\\anaconda3\\Lib\\site-packages\\seaborn\\_oldcore.py:1119: FutureWarning: use_inf_as_na option is deprecated and will be removed in a future version. Convert inf values to NaN before operating instead.\n",
      "  with pd.option_context('mode.use_inf_as_na', True):\n",
      "C:\\Users\\User\\anaconda3\\Lib\\site-packages\\seaborn\\_oldcore.py:1119: FutureWarning: use_inf_as_na option is deprecated and will be removed in a future version. Convert inf values to NaN before operating instead.\n",
      "  with pd.option_context('mode.use_inf_as_na', True):\n"
     ]
    },
    {
     "data": {
      "image/png": "[encoded data removed]",
      "text/plain": [
       "<Figure size 1000x1000 with 1 Axes>"
      ]
     },
     "metadata": {},
     "output_type": "display_data"
    }
   ],
   "source": [
    "plt.figure(figsize=(10, 10))\n",
    "\n",
    "sns.lineplot(data=data_london, x=data_london.timestamp, y=data_london.cnt)\n",
    "\n",
    "plt.xlabel('Дата и время')\n",
    "plt.ylabel('Количество поездок')\n",
    "plt.title('График распределения количества поездок по дате и времени')\n",
    "\n",
    "plt.show()"
   ]
  },
  {
   "cell_type": "markdown",
   "metadata": {},
   "source": [
    "По графику ничего не проанализируешь..."
   ]
  },
  {
   "cell_type": "markdown",
   "metadata": {},
   "source": [
    "3. Преобразуйте данные и посчитайте число поездок по дням. Визуализируйте результат. \n"
   ]
  },
  {
   "cell_type": "markdown",
   "metadata": {},
   "source": [
    "сделаем с помощью pandas.resample() - преобразование частот временных рядов\n",
    "\n",
    "правило D - группировка по дням"
   ]
  },
  {
   "cell_type": "code",
   "execution_count": 87,
   "metadata": {},
   "outputs": [
    {
     "data": {
      "text/html": [
       "<div>\n",
       "<style scoped>\n",
       "    .dataframe tbody tr th:only-of-type {\n",
       "        vertical-align: middle;\n",
       "    }\n",
       "\n",
       "    .dataframe tbody tr th {\n",
       "        vertical-align: top;\n",
       "    }\n",
       "\n",
       "    .dataframe thead th {\n",
       "        text-align: right;\n",
       "    }\n",
       "</style>\n",
       "<table border=\"1\" class=\"dataframe\">\n",
       "  <thead>\n",
       "    <tr style=\"text-align: right;\">\n",
       "      <th></th>\n",
       "      <th>timestamp</th>\n",
       "      <th>cnt</th>\n",
       "      <th>t1</th>\n",
       "      <th>t2</th>\n",
       "      <th>hum</th>\n",
       "      <th>wind_speed</th>\n",
       "      <th>weather_code</th>\n",
       "      <th>is_holiday</th>\n",
       "      <th>is_weekend</th>\n",
       "      <th>season</th>\n",
       "    </tr>\n",
       "    <tr>\n",
       "      <th>timestamp</th>\n",
       "      <th></th>\n",
       "      <th></th>\n",
       "      <th></th>\n",
       "      <th></th>\n",
       "      <th></th>\n",
       "      <th></th>\n",
       "      <th></th>\n",
       "      <th></th>\n",
       "      <th></th>\n",
       "      <th></th>\n",
       "    </tr>\n",
       "  </thead>\n",
       "  <tbody>\n",
       "    <tr>\n",
       "      <th>2015-01-04 00:00:00</th>\n",
       "      <td>2015-01-04 00:00:00</td>\n",
       "      <td>182</td>\n",
       "      <td>3.0</td>\n",
       "      <td>2.0</td>\n",
       "      <td>93.0</td>\n",
       "      <td>6.0</td>\n",
       "      <td>3.0</td>\n",
       "      <td>0.0</td>\n",
       "      <td>1.0</td>\n",
       "      <td>3.0</td>\n",
       "    </tr>\n",
       "    <tr>\n",
       "      <th>2015-01-04 01:00:00</th>\n",
       "      <td>2015-01-04 01:00:00</td>\n",
       "      <td>138</td>\n",
       "      <td>3.0</td>\n",
       "      <td>2.5</td>\n",
       "      <td>93.0</td>\n",
       "      <td>5.0</td>\n",
       "      <td>1.0</td>\n",
       "      <td>0.0</td>\n",
       "      <td>1.0</td>\n",
       "      <td>3.0</td>\n",
       "    </tr>\n",
       "    <tr>\n",
       "      <th>2015-01-04 02:00:00</th>\n",
       "      <td>2015-01-04 02:00:00</td>\n",
       "      <td>134</td>\n",
       "      <td>2.5</td>\n",
       "      <td>2.5</td>\n",
       "      <td>96.5</td>\n",
       "      <td>0.0</td>\n",
       "      <td>1.0</td>\n",
       "      <td>0.0</td>\n",
       "      <td>1.0</td>\n",
       "      <td>3.0</td>\n",
       "    </tr>\n",
       "  </tbody>\n",
       "</table>\n",
       "</div>"
      ],
      "text/plain": [
       "                               timestamp  cnt   t1   t2   hum  wind_speed  \\\n",
       "timestamp                                                                   \n",
       "2015-01-04 00:00:00  2015-01-04 00:00:00  182  3.0  2.0  93.0         6.0   \n",
       "2015-01-04 01:00:00  2015-01-04 01:00:00  138  3.0  2.5  93.0         5.0   \n",
       "2015-01-04 02:00:00  2015-01-04 02:00:00  134  2.5  2.5  96.5         0.0   \n",
       "\n",
       "                     weather_code  is_holiday  is_weekend  season  \n",
       "timestamp                                                          \n",
       "2015-01-04 00:00:00           3.0         0.0         1.0     3.0  \n",
       "2015-01-04 01:00:00           1.0         0.0         1.0     3.0  \n",
       "2015-01-04 02:00:00           1.0         0.0         1.0     3.0  "
      ]
     },
     "execution_count": 87,
     "metadata": {},
     "output_type": "execute_result"
    }
   ],
   "source": [
    "data_london.sort_values(by='timestamp', inplace=True)\n",
    "data_london.set_index('timestamp', drop=False,inplace=True)\n",
    "data_london.head(3)"
   ]
  },
  {
   "cell_type": "code",
   "execution_count": 78,
   "metadata": {},
   "outputs": [
    {
     "data": {
      "text/html": [
       "<div>\n",
       "<style scoped>\n",
       "    .dataframe tbody tr th:only-of-type {\n",
       "        vertical-align: middle;\n",
       "    }\n",
       "\n",
       "    .dataframe tbody tr th {\n",
       "        vertical-align: top;\n",
       "    }\n",
       "\n",
       "    .dataframe thead th {\n",
       "        text-align: right;\n",
       "    }\n",
       "</style>\n",
       "<table border=\"1\" class=\"dataframe\">\n",
       "  <thead>\n",
       "    <tr style=\"text-align: right;\">\n",
       "      <th></th>\n",
       "      <th>timestamp</th>\n",
       "      <th>cnt</th>\n",
       "      <th>t1</th>\n",
       "      <th>t2</th>\n",
       "      <th>hum</th>\n",
       "      <th>wind_speed</th>\n",
       "      <th>weather_code</th>\n",
       "      <th>is_holiday</th>\n",
       "      <th>is_weekend</th>\n",
       "      <th>season</th>\n",
       "    </tr>\n",
       "    <tr>\n",
       "      <th>timestamp</th>\n",
       "      <th></th>\n",
       "      <th></th>\n",
       "      <th></th>\n",
       "      <th></th>\n",
       "      <th></th>\n",
       "      <th></th>\n",
       "      <th></th>\n",
       "      <th></th>\n",
       "      <th></th>\n",
       "      <th></th>\n",
       "    </tr>\n",
       "  </thead>\n",
       "  <tbody>\n",
       "    <tr>\n",
       "      <th>2015-01-04 00:00:00</th>\n",
       "      <td>2015-01-04 00:00:00</td>\n",
       "      <td>182</td>\n",
       "      <td>3.0</td>\n",
       "      <td>2.0</td>\n",
       "      <td>93.0</td>\n",
       "      <td>6.0</td>\n",
       "      <td>3.0</td>\n",
       "      <td>0.0</td>\n",
       "      <td>1.0</td>\n",
       "      <td>3.0</td>\n",
       "    </tr>\n",
       "    <tr>\n",
       "      <th>2015-01-04 01:00:00</th>\n",
       "      <td>2015-01-04 01:00:00</td>\n",
       "      <td>138</td>\n",
       "      <td>3.0</td>\n",
       "      <td>2.5</td>\n",
       "      <td>93.0</td>\n",
       "      <td>5.0</td>\n",
       "      <td>1.0</td>\n",
       "      <td>0.0</td>\n",
       "      <td>1.0</td>\n",
       "      <td>3.0</td>\n",
       "    </tr>\n",
       "    <tr>\n",
       "      <th>2015-01-04 02:00:00</th>\n",
       "      <td>2015-01-04 02:00:00</td>\n",
       "      <td>134</td>\n",
       "      <td>2.5</td>\n",
       "      <td>2.5</td>\n",
       "      <td>96.5</td>\n",
       "      <td>0.0</td>\n",
       "      <td>1.0</td>\n",
       "      <td>0.0</td>\n",
       "      <td>1.0</td>\n",
       "      <td>3.0</td>\n",
       "    </tr>\n",
       "  </tbody>\n",
       "</table>\n",
       "</div>"
      ],
      "text/plain": [
       "                               timestamp  cnt   t1   t2   hum  wind_speed  \\\n",
       "timestamp                                                                   \n",
       "2015-01-04 00:00:00  2015-01-04 00:00:00  182  3.0  2.0  93.0         6.0   \n",
       "2015-01-04 01:00:00  2015-01-04 01:00:00  138  3.0  2.5  93.0         5.0   \n",
       "2015-01-04 02:00:00  2015-01-04 02:00:00  134  2.5  2.5  96.5         0.0   \n",
       "\n",
       "                     weather_code  is_holiday  is_weekend  season  \n",
       "timestamp                                                          \n",
       "2015-01-04 00:00:00           3.0         0.0         1.0     3.0  \n",
       "2015-01-04 01:00:00           1.0         0.0         1.0     3.0  \n",
       "2015-01-04 02:00:00           1.0         0.0         1.0     3.0  "
      ]
     },
     "execution_count": 78,
     "metadata": {},
     "output_type": "execute_result"
    }
   ],
   "source": [
    "data_london.index = pd.to_datetime(data_london.index)\n",
    "data_london.head(3)"
   ]
  },
  {
   "cell_type": "code",
   "execution_count": 37,
   "metadata": {},
   "outputs": [
    {
     "data": {
      "text/html": [
       "<div>\n",
       "<style scoped>\n",
       "    .dataframe tbody tr th:only-of-type {\n",
       "        vertical-align: middle;\n",
       "    }\n",
       "\n",
       "    .dataframe tbody tr th {\n",
       "        vertical-align: top;\n",
       "    }\n",
       "\n",
       "    .dataframe thead th {\n",
       "        text-align: right;\n",
       "    }\n",
       "</style>\n",
       "<table border=\"1\" class=\"dataframe\">\n",
       "  <thead>\n",
       "    <tr style=\"text-align: right;\">\n",
       "      <th></th>\n",
       "      <th>cnt</th>\n",
       "    </tr>\n",
       "    <tr>\n",
       "      <th>timestamp</th>\n",
       "      <th></th>\n",
       "    </tr>\n",
       "  </thead>\n",
       "  <tbody>\n",
       "    <tr>\n",
       "      <th>2015-01-04</th>\n",
       "      <td>9234</td>\n",
       "    </tr>\n",
       "    <tr>\n",
       "      <th>2015-01-05</th>\n",
       "      <td>20372</td>\n",
       "    </tr>\n",
       "    <tr>\n",
       "      <th>2015-01-06</th>\n",
       "      <td>20613</td>\n",
       "    </tr>\n",
       "    <tr>\n",
       "      <th>2015-01-07</th>\n",
       "      <td>21064</td>\n",
       "    </tr>\n",
       "    <tr>\n",
       "      <th>2015-01-08</th>\n",
       "      <td>15601</td>\n",
       "    </tr>\n",
       "    <tr>\n",
       "      <th>...</th>\n",
       "      <td>...</td>\n",
       "    </tr>\n",
       "    <tr>\n",
       "      <th>2016-12-30</th>\n",
       "      <td>11566</td>\n",
       "    </tr>\n",
       "    <tr>\n",
       "      <th>2016-12-31</th>\n",
       "      <td>11424</td>\n",
       "    </tr>\n",
       "    <tr>\n",
       "      <th>2017-01-01</th>\n",
       "      <td>6421</td>\n",
       "    </tr>\n",
       "    <tr>\n",
       "      <th>2017-01-02</th>\n",
       "      <td>11823</td>\n",
       "    </tr>\n",
       "    <tr>\n",
       "      <th>2017-01-03</th>\n",
       "      <td>19436</td>\n",
       "    </tr>\n",
       "  </tbody>\n",
       "</table>\n",
       "<p>731 rows × 1 columns</p>\n",
       "</div>"
      ],
      "text/plain": [
       "              cnt\n",
       "timestamp        \n",
       "2015-01-04   9234\n",
       "2015-01-05  20372\n",
       "2015-01-06  20613\n",
       "2015-01-07  21064\n",
       "2015-01-08  15601\n",
       "...           ...\n",
       "2016-12-30  11566\n",
       "2016-12-31  11424\n",
       "2017-01-01   6421\n",
       "2017-01-02  11823\n",
       "2017-01-03  19436\n",
       "\n",
       "[731 rows x 1 columns]"
      ]
     },
     "execution_count": 37,
     "metadata": {},
     "output_type": "execute_result"
    }
   ],
   "source": [
    "resample_cnt = data_london.resample('D').agg({'cnt': 'sum'})\n",
    "resample_cnt"
   ]
  },
  {
   "cell_type": "code",
   "execution_count": 39,
   "metadata": {},
   "outputs": [
    {
     "name": "stderr",
     "output_type": "stream",
     "text": [
      "C:\\Users\\User\\anaconda3\\Lib\\site-packages\\seaborn\\_oldcore.py:1119: FutureWarning: use_inf_as_na option is deprecated and will be removed in a future version. Convert inf values to NaN before operating instead.\n",
      "  with pd.option_context('mode.use_inf_as_na', True):\n",
      "C:\\Users\\User\\anaconda3\\Lib\\site-packages\\seaborn\\_oldcore.py:1119: FutureWarning: use_inf_as_na option is deprecated and will be removed in a future version. Convert inf values to NaN before operating instead.\n",
      "  with pd.option_context('mode.use_inf_as_na', True):\n"
     ]
    },
    {
     "data": {
      "image/png": "[encoded data removed]",
      "text/plain": [
       "<Figure size 1000x1000 with 1 Axes>"
      ]
     },
     "metadata": {},
     "output_type": "display_data"
    }
   ],
   "source": [
    "plt.figure(figsize=(10, 10))\n",
    "\n",
    "sns.lineplot(data=resample_cnt, x=resample_cnt.index, y=resample_cnt.cnt)\n",
    "\n",
    "plt.xlabel('Дата и время')\n",
    "plt.ylabel('Количество поездок')\n",
    "plt.title('График распределения количества поездок по дате и времени')\n",
    "\n",
    "plt.show()"
   ]
  },
  {
   "cell_type": "markdown",
   "metadata": {},
   "source": [
    "Вывод:\n",
    "* зимой меньше всего берут на прокат велосипеды\n",
    "* резкие скачки аренд велосипедов\n",
    "* максимальное число - 70000"
   ]
  },
  {
   "cell_type": "markdown",
   "metadata": {},
   "source": [
    "4. Используйте агрегированные данные по дням и посчитайте скользящее среднее с окном 3. В качестве ответа укажите полученное число аренд за 2015-07-09, округлив значение до целого."
   ]
  },
  {
   "cell_type": "markdown",
   "metadata": {},
   "source": [
    "Для этого разделим дальнейшие действия на несколько этапов:\n",
    "\n",
    "* сначала посчитаем скользящее среднее, чтобы сгладить ряд\n",
    "* далее – разницу между наблюдаемыми и сглаженными значениями\n",
    "* определим верхние и нижние границы 99% доверительного интервала\n",
    "* найдем причины аномалий!\n",
    "\n",
    "На данном шаге возьмите агрегированные данные по дням с предыдущего шага и посчитайте скользящее среднее с окном 3. В качестве ответа укажите полученное число аренд за 2015-07-09, округлив значение до целого."
   ]
  },
  {
   "cell_type": "code",
   "execution_count": 40,
   "metadata": {},
   "outputs": [
    {
     "data": {
      "text/html": [
       "<div>\n",
       "<style scoped>\n",
       "    .dataframe tbody tr th:only-of-type {\n",
       "        vertical-align: middle;\n",
       "    }\n",
       "\n",
       "    .dataframe tbody tr th {\n",
       "        vertical-align: top;\n",
       "    }\n",
       "\n",
       "    .dataframe thead th {\n",
       "        text-align: right;\n",
       "    }\n",
       "</style>\n",
       "<table border=\"1\" class=\"dataframe\">\n",
       "  <thead>\n",
       "    <tr style=\"text-align: right;\">\n",
       "      <th></th>\n",
       "      <th>timestamp</th>\n",
       "      <th>cnt</th>\n",
       "    </tr>\n",
       "  </thead>\n",
       "  <tbody>\n",
       "    <tr>\n",
       "      <th>0</th>\n",
       "      <td>2015-01-04</td>\n",
       "      <td>9234</td>\n",
       "    </tr>\n",
       "    <tr>\n",
       "      <th>1</th>\n",
       "      <td>2015-01-05</td>\n",
       "      <td>20372</td>\n",
       "    </tr>\n",
       "    <tr>\n",
       "      <th>2</th>\n",
       "      <td>2015-01-06</td>\n",
       "      <td>20613</td>\n",
       "    </tr>\n",
       "    <tr>\n",
       "      <th>3</th>\n",
       "      <td>2015-01-07</td>\n",
       "      <td>21064</td>\n",
       "    </tr>\n",
       "    <tr>\n",
       "      <th>4</th>\n",
       "      <td>2015-01-08</td>\n",
       "      <td>15601</td>\n",
       "    </tr>\n",
       "    <tr>\n",
       "      <th>...</th>\n",
       "      <td>...</td>\n",
       "      <td>...</td>\n",
       "    </tr>\n",
       "    <tr>\n",
       "      <th>726</th>\n",
       "      <td>2016-12-30</td>\n",
       "      <td>11566</td>\n",
       "    </tr>\n",
       "    <tr>\n",
       "      <th>727</th>\n",
       "      <td>2016-12-31</td>\n",
       "      <td>11424</td>\n",
       "    </tr>\n",
       "    <tr>\n",
       "      <th>728</th>\n",
       "      <td>2017-01-01</td>\n",
       "      <td>6421</td>\n",
       "    </tr>\n",
       "    <tr>\n",
       "      <th>729</th>\n",
       "      <td>2017-01-02</td>\n",
       "      <td>11823</td>\n",
       "    </tr>\n",
       "    <tr>\n",
       "      <th>730</th>\n",
       "      <td>2017-01-03</td>\n",
       "      <td>19436</td>\n",
       "    </tr>\n",
       "  </tbody>\n",
       "</table>\n",
       "<p>731 rows × 2 columns</p>\n",
       "</div>"
      ],
      "text/plain": [
       "     timestamp    cnt\n",
       "0   2015-01-04   9234\n",
       "1   2015-01-05  20372\n",
       "2   2015-01-06  20613\n",
       "3   2015-01-07  21064\n",
       "4   2015-01-08  15601\n",
       "..         ...    ...\n",
       "726 2016-12-30  11566\n",
       "727 2016-12-31  11424\n",
       "728 2017-01-01   6421\n",
       "729 2017-01-02  11823\n",
       "730 2017-01-03  19436\n",
       "\n",
       "[731 rows x 2 columns]"
      ]
     },
     "execution_count": 40,
     "metadata": {},
     "output_type": "execute_result"
    }
   ],
   "source": [
    "by_day = data_london.resample('D').cnt.sum().reset_index()\n",
    "by_day"
   ]
  },
  {
   "cell_type": "code",
   "execution_count": 42,
   "metadata": {},
   "outputs": [
    {
     "data": {
      "text/html": [
       "<div>\n",
       "<style scoped>\n",
       "    .dataframe tbody tr th:only-of-type {\n",
       "        vertical-align: middle;\n",
       "    }\n",
       "\n",
       "    .dataframe tbody tr th {\n",
       "        vertical-align: top;\n",
       "    }\n",
       "\n",
       "    .dataframe thead th {\n",
       "        text-align: right;\n",
       "    }\n",
       "</style>\n",
       "<table border=\"1\" class=\"dataframe\">\n",
       "  <thead>\n",
       "    <tr style=\"text-align: right;\">\n",
       "      <th></th>\n",
       "      <th>timestamp</th>\n",
       "      <th>cnt</th>\n",
       "    </tr>\n",
       "  </thead>\n",
       "  <tbody>\n",
       "    <tr>\n",
       "      <th>0</th>\n",
       "      <td>2015-01-04</td>\n",
       "      <td>NaN</td>\n",
       "    </tr>\n",
       "    <tr>\n",
       "      <th>1</th>\n",
       "      <td>2015-01-05</td>\n",
       "      <td>NaN</td>\n",
       "    </tr>\n",
       "    <tr>\n",
       "      <th>2</th>\n",
       "      <td>2015-01-06</td>\n",
       "      <td>16739.666667</td>\n",
       "    </tr>\n",
       "    <tr>\n",
       "      <th>3</th>\n",
       "      <td>2015-01-07</td>\n",
       "      <td>20683.000000</td>\n",
       "    </tr>\n",
       "    <tr>\n",
       "      <th>4</th>\n",
       "      <td>2015-01-08</td>\n",
       "      <td>19092.666667</td>\n",
       "    </tr>\n",
       "  </tbody>\n",
       "</table>\n",
       "</div>"
      ],
      "text/plain": [
       "   timestamp           cnt\n",
       "0 2015-01-04           NaN\n",
       "1 2015-01-05           NaN\n",
       "2 2015-01-06  16739.666667\n",
       "3 2015-01-07  20683.000000\n",
       "4 2015-01-08  19092.666667"
      ]
     },
     "execution_count": 42,
     "metadata": {},
     "output_type": "execute_result"
    }
   ],
   "source": [
    "by_day_roll = data_london.resample('D').cnt.sum().rolling(3).mean().reset_index()\n",
    "by_day_roll.head()"
   ]
  },
  {
   "cell_type": "code",
   "execution_count": 50,
   "metadata": {},
   "outputs": [
    {
     "name": "stdout",
     "output_type": "stream",
     "text": [
      "Среднее скользящее для 2015-07-09: timestamp    2015-07-09 00:00:00\n",
      "cnt                      50705.0\n",
      "Name: 186, dtype: object\n"
     ]
    }
   ],
   "source": [
    "roll_2015_07_09 = by_day_roll.query('timestamp == \"2015-07-09\"')\n",
    "print(f\"Среднее скользящее для 2015-07-09: {roll_2015_07_09.iloc[-1]}\")"
   ]
  },
  {
   "cell_type": "markdown",
   "metadata": {},
   "source": [
    "\n",
    "5. Посчитайте разницу между наблюдаемыми и значениями, подсчитанными с помощью скользящего среднего. Далее – найдите стандартное отклонение. "
   ]
  },
  {
   "cell_type": "markdown",
   "metadata": {},
   "source": [
    "Разницу между сглаженными и наблюдаемыми значениями посчитаем через стандартное отклонение (std)"
   ]
  },
  {
   "cell_type": "code",
   "execution_count": 51,
   "metadata": {},
   "outputs": [
    {
     "data": {
      "text/plain": [
       "4558.59"
      ]
     },
     "execution_count": 51,
     "metadata": {},
     "output_type": "execute_result"
    }
   ],
   "source": [
    "std_cnt = np.round(np.std(by_day.cnt - by_day_roll.cnt), 2)\n",
    "std_cnt"
   ]
  },
  {
   "cell_type": "markdown",
   "metadata": {},
   "source": [
    "6. Определите границы 99% доверительного интервала, добавьте данную информацию в датафрейм. \n"
   ]
  },
  {
   "cell_type": "markdown",
   "metadata": {},
   "source": [
    "Доверительный интервал для 99% - nu + 2.58 * std\n",
    "\n",
    "std берём, поскольку у нас ГС, а не выборка"
   ]
  },
  {
   "cell_type": "code",
   "execution_count": 53,
   "metadata": {},
   "outputs": [
    {
     "data": {
      "text/html": [
       "<div>\n",
       "<style scoped>\n",
       "    .dataframe tbody tr th:only-of-type {\n",
       "        vertical-align: middle;\n",
       "    }\n",
       "\n",
       "    .dataframe tbody tr th {\n",
       "        vertical-align: top;\n",
       "    }\n",
       "\n",
       "    .dataframe thead th {\n",
       "        text-align: right;\n",
       "    }\n",
       "</style>\n",
       "<table border=\"1\" class=\"dataframe\">\n",
       "  <thead>\n",
       "    <tr style=\"text-align: right;\">\n",
       "      <th></th>\n",
       "      <th>timestamp</th>\n",
       "      <th>cnt</th>\n",
       "      <th>upper_board</th>\n",
       "      <th>lower_board</th>\n",
       "    </tr>\n",
       "  </thead>\n",
       "  <tbody>\n",
       "    <tr>\n",
       "      <th>0</th>\n",
       "      <td>2015-01-04</td>\n",
       "      <td>9234</td>\n",
       "      <td>NaN</td>\n",
       "      <td>NaN</td>\n",
       "    </tr>\n",
       "    <tr>\n",
       "      <th>1</th>\n",
       "      <td>2015-01-05</td>\n",
       "      <td>20372</td>\n",
       "      <td>NaN</td>\n",
       "      <td>NaN</td>\n",
       "    </tr>\n",
       "    <tr>\n",
       "      <th>2</th>\n",
       "      <td>2015-01-06</td>\n",
       "      <td>20613</td>\n",
       "      <td>25856.846667</td>\n",
       "      <td>7622.486667</td>\n",
       "    </tr>\n",
       "  </tbody>\n",
       "</table>\n",
       "</div>"
      ],
      "text/plain": [
       "   timestamp    cnt   upper_board  lower_board\n",
       "0 2015-01-04   9234           NaN          NaN\n",
       "1 2015-01-05  20372           NaN          NaN\n",
       "2 2015-01-06  20613  25856.846667  7622.486667"
      ]
     },
     "execution_count": 53,
     "metadata": {},
     "output_type": "execute_result"
    }
   ],
   "source": [
    "lower_board = by_day_roll.cnt - 2 * std_cnt \n",
    "upper_board = by_day_roll.cnt + 2 * std_cnt\n",
    "\n",
    "by_day['upper_board'] = upper_board\n",
    "by_day['lower_board'] = lower_board\n",
    "\n",
    "by_day.head(3)"
   ]
  },
  {
   "cell_type": "markdown",
   "metadata": {},
   "source": [
    "7. Изучите аномально высокие значения и укажите день, когда число аренд было наибольшим. \n"
   ]
  },
  {
   "cell_type": "markdown",
   "metadata": {},
   "source": [
    "Изучим аномально высокие значения! Сначала выведите наблюдения, для которых наблюдаемые значения оказались больше верхней границы 99% доверительного интервала, а затем меньше\n",
    "\n",
    "В какой день значение числа аренд оказалось наибольшим? Укажите дату в формате 2020-12-31."
   ]
  },
  {
   "cell_type": "code",
   "execution_count": 57,
   "metadata": {},
   "outputs": [
    {
     "data": {
      "text/html": [
       "<div>\n",
       "<style scoped>\n",
       "    .dataframe tbody tr th:only-of-type {\n",
       "        vertical-align: middle;\n",
       "    }\n",
       "\n",
       "    .dataframe tbody tr th {\n",
       "        vertical-align: top;\n",
       "    }\n",
       "\n",
       "    .dataframe thead th {\n",
       "        text-align: right;\n",
       "    }\n",
       "</style>\n",
       "<table border=\"1\" class=\"dataframe\">\n",
       "  <thead>\n",
       "    <tr style=\"text-align: right;\">\n",
       "      <th></th>\n",
       "      <th>timestamp</th>\n",
       "      <th>cnt</th>\n",
       "      <th>upper_board</th>\n",
       "      <th>lower_board</th>\n",
       "    </tr>\n",
       "  </thead>\n",
       "  <tbody>\n",
       "    <tr>\n",
       "      <th>186</th>\n",
       "      <td>2015-07-09</td>\n",
       "      <td>72504</td>\n",
       "      <td>59822.180000</td>\n",
       "      <td>41587.820000</td>\n",
       "    </tr>\n",
       "    <tr>\n",
       "      <th>205</th>\n",
       "      <td>2015-07-28</td>\n",
       "      <td>36101</td>\n",
       "      <td>35918.180000</td>\n",
       "      <td>17683.820000</td>\n",
       "    </tr>\n",
       "    <tr>\n",
       "      <th>214</th>\n",
       "      <td>2015-08-06</td>\n",
       "      <td>63468</td>\n",
       "      <td>55744.513333</td>\n",
       "      <td>37510.153333</td>\n",
       "    </tr>\n",
       "    <tr>\n",
       "      <th>365</th>\n",
       "      <td>2016-01-04</td>\n",
       "      <td>20533</td>\n",
       "      <td>19982.846667</td>\n",
       "      <td>1748.486667</td>\n",
       "    </tr>\n",
       "    <tr>\n",
       "      <th>609</th>\n",
       "      <td>2016-09-04</td>\n",
       "      <td>27512</td>\n",
       "      <td>23376.180000</td>\n",
       "      <td>5141.820000</td>\n",
       "    </tr>\n",
       "    <tr>\n",
       "      <th>721</th>\n",
       "      <td>2016-12-25</td>\n",
       "      <td>36653</td>\n",
       "      <td>28767.846667</td>\n",
       "      <td>10533.486667</td>\n",
       "    </tr>\n",
       "  </tbody>\n",
       "</table>\n",
       "</div>"
      ],
      "text/plain": [
       "     timestamp    cnt   upper_board   lower_board\n",
       "186 2015-07-09  72504  59822.180000  41587.820000\n",
       "205 2015-07-28  36101  35918.180000  17683.820000\n",
       "214 2015-08-06  63468  55744.513333  37510.153333\n",
       "365 2016-01-04  20533  19982.846667   1748.486667\n",
       "609 2016-09-04  27512  23376.180000   5141.820000\n",
       "721 2016-12-25  36653  28767.846667  10533.486667"
      ]
     },
     "execution_count": 57,
     "metadata": {},
     "output_type": "execute_result"
    }
   ],
   "source": [
    "anomaly_by_day_upp = by_day[by_day.cnt > by_day.upper_board]\n",
    "anomaly_by_day_upp"
   ]
  },
  {
   "cell_type": "code",
   "execution_count": 58,
   "metadata": {},
   "outputs": [
    {
     "data": {
      "text/html": [
       "<div>\n",
       "<style scoped>\n",
       "    .dataframe tbody tr th:only-of-type {\n",
       "        vertical-align: middle;\n",
       "    }\n",
       "\n",
       "    .dataframe tbody tr th {\n",
       "        vertical-align: top;\n",
       "    }\n",
       "\n",
       "    .dataframe thead th {\n",
       "        text-align: right;\n",
       "    }\n",
       "</style>\n",
       "<table border=\"1\" class=\"dataframe\">\n",
       "  <thead>\n",
       "    <tr style=\"text-align: right;\">\n",
       "      <th></th>\n",
       "      <th>timestamp</th>\n",
       "      <th>cnt</th>\n",
       "      <th>upper_board</th>\n",
       "      <th>lower_board</th>\n",
       "    </tr>\n",
       "  </thead>\n",
       "  <tbody>\n",
       "    <tr>\n",
       "      <th>84</th>\n",
       "      <td>2015-03-29</td>\n",
       "      <td>8592</td>\n",
       "      <td>27092.513333</td>\n",
       "      <td>8858.153333</td>\n",
       "    </tr>\n",
       "    <tr>\n",
       "      <th>130</th>\n",
       "      <td>2015-05-14</td>\n",
       "      <td>15609</td>\n",
       "      <td>37826.513333</td>\n",
       "      <td>19592.153333</td>\n",
       "    </tr>\n",
       "    <tr>\n",
       "      <th>187</th>\n",
       "      <td>2015-07-10</td>\n",
       "      <td>42779</td>\n",
       "      <td>61445.846667</td>\n",
       "      <td>43211.486667</td>\n",
       "    </tr>\n",
       "    <tr>\n",
       "      <th>188</th>\n",
       "      <td>2015-07-11</td>\n",
       "      <td>42091</td>\n",
       "      <td>61575.180000</td>\n",
       "      <td>43340.820000</td>\n",
       "    </tr>\n",
       "    <tr>\n",
       "      <th>189</th>\n",
       "      <td>2015-07-12</td>\n",
       "      <td>23240</td>\n",
       "      <td>45153.846667</td>\n",
       "      <td>26919.486667</td>\n",
       "    </tr>\n",
       "    <tr>\n",
       "      <th>201</th>\n",
       "      <td>2015-07-24</td>\n",
       "      <td>16034</td>\n",
       "      <td>40130.846667</td>\n",
       "      <td>21896.486667</td>\n",
       "    </tr>\n",
       "    <tr>\n",
       "      <th>232</th>\n",
       "      <td>2015-08-24</td>\n",
       "      <td>17400</td>\n",
       "      <td>38646.513333</td>\n",
       "      <td>20412.153333</td>\n",
       "    </tr>\n",
       "    <tr>\n",
       "      <th>239</th>\n",
       "      <td>2015-08-31</td>\n",
       "      <td>9639</td>\n",
       "      <td>28193.513333</td>\n",
       "      <td>9959.153333</td>\n",
       "    </tr>\n",
       "    <tr>\n",
       "      <th>314</th>\n",
       "      <td>2015-11-14</td>\n",
       "      <td>8898</td>\n",
       "      <td>30154.513333</td>\n",
       "      <td>11920.153333</td>\n",
       "    </tr>\n",
       "    <tr>\n",
       "      <th>405</th>\n",
       "      <td>2016-02-13</td>\n",
       "      <td>9869</td>\n",
       "      <td>28408.513333</td>\n",
       "      <td>10174.153333</td>\n",
       "    </tr>\n",
       "    <tr>\n",
       "      <th>467</th>\n",
       "      <td>2016-04-15</td>\n",
       "      <td>15761</td>\n",
       "      <td>35161.846667</td>\n",
       "      <td>16927.486667</td>\n",
       "    </tr>\n",
       "    <tr>\n",
       "      <th>491</th>\n",
       "      <td>2016-05-09</td>\n",
       "      <td>30507</td>\n",
       "      <td>48811.846667</td>\n",
       "      <td>30577.486667</td>\n",
       "    </tr>\n",
       "    <tr>\n",
       "      <th>492</th>\n",
       "      <td>2016-05-10</td>\n",
       "      <td>21452</td>\n",
       "      <td>41356.180000</td>\n",
       "      <td>23121.820000</td>\n",
       "    </tr>\n",
       "    <tr>\n",
       "      <th>525</th>\n",
       "      <td>2016-06-12</td>\n",
       "      <td>17841</td>\n",
       "      <td>37819.180000</td>\n",
       "      <td>19584.820000</td>\n",
       "    </tr>\n",
       "    <tr>\n",
       "      <th>575</th>\n",
       "      <td>2016-08-01</td>\n",
       "      <td>29749</td>\n",
       "      <td>49128.846667</td>\n",
       "      <td>30894.486667</td>\n",
       "    </tr>\n",
       "    <tr>\n",
       "      <th>593</th>\n",
       "      <td>2016-08-19</td>\n",
       "      <td>25593</td>\n",
       "      <td>44788.846667</td>\n",
       "      <td>26554.486667</td>\n",
       "    </tr>\n",
       "    <tr>\n",
       "      <th>607</th>\n",
       "      <td>2016-09-02</td>\n",
       "      <td>0</td>\n",
       "      <td>35203.513333</td>\n",
       "      <td>16969.153333</td>\n",
       "    </tr>\n",
       "    <tr>\n",
       "      <th>615</th>\n",
       "      <td>2016-09-10</td>\n",
       "      <td>17080</td>\n",
       "      <td>40379.180000</td>\n",
       "      <td>22144.820000</td>\n",
       "    </tr>\n",
       "    <tr>\n",
       "      <th>621</th>\n",
       "      <td>2016-09-16</td>\n",
       "      <td>21967</td>\n",
       "      <td>45310.513333</td>\n",
       "      <td>27076.153333</td>\n",
       "    </tr>\n",
       "    <tr>\n",
       "      <th>636</th>\n",
       "      <td>2016-10-01</td>\n",
       "      <td>17593</td>\n",
       "      <td>37736.180000</td>\n",
       "      <td>19501.820000</td>\n",
       "    </tr>\n",
       "    <tr>\n",
       "      <th>678</th>\n",
       "      <td>2016-11-12</td>\n",
       "      <td>8990</td>\n",
       "      <td>29995.180000</td>\n",
       "      <td>11760.820000</td>\n",
       "    </tr>\n",
       "    <tr>\n",
       "      <th>706</th>\n",
       "      <td>2016-12-10</td>\n",
       "      <td>14832</td>\n",
       "      <td>33421.180000</td>\n",
       "      <td>15186.820000</td>\n",
       "    </tr>\n",
       "  </tbody>\n",
       "</table>\n",
       "</div>"
      ],
      "text/plain": [
       "     timestamp    cnt   upper_board   lower_board\n",
       "84  2015-03-29   8592  27092.513333   8858.153333\n",
       "130 2015-05-14  15609  37826.513333  19592.153333\n",
       "187 2015-07-10  42779  61445.846667  43211.486667\n",
       "188 2015-07-11  42091  61575.180000  43340.820000\n",
       "189 2015-07-12  23240  45153.846667  26919.486667\n",
       "201 2015-07-24  16034  40130.846667  21896.486667\n",
       "232 2015-08-24  17400  38646.513333  20412.153333\n",
       "239 2015-08-31   9639  28193.513333   9959.153333\n",
       "314 2015-11-14   8898  30154.513333  11920.153333\n",
       "405 2016-02-13   9869  28408.513333  10174.153333\n",
       "467 2016-04-15  15761  35161.846667  16927.486667\n",
       "491 2016-05-09  30507  48811.846667  30577.486667\n",
       "492 2016-05-10  21452  41356.180000  23121.820000\n",
       "525 2016-06-12  17841  37819.180000  19584.820000\n",
       "575 2016-08-01  29749  49128.846667  30894.486667\n",
       "593 2016-08-19  25593  44788.846667  26554.486667\n",
       "607 2016-09-02      0  35203.513333  16969.153333\n",
       "615 2016-09-10  17080  40379.180000  22144.820000\n",
       "621 2016-09-16  21967  45310.513333  27076.153333\n",
       "636 2016-10-01  17593  37736.180000  19501.820000\n",
       "678 2016-11-12   8990  29995.180000  11760.820000\n",
       "706 2016-12-10  14832  33421.180000  15186.820000"
      ]
     },
     "execution_count": 58,
     "metadata": {},
     "output_type": "execute_result"
    }
   ],
   "source": [
    "anomaly_by_day_low = by_day[by_day.cnt < by_day.lower_board]\n",
    "anomaly_by_day_low"
   ]
  },
  {
   "cell_type": "markdown",
   "metadata": {},
   "source": [
    "8. Найдите причину данной аномалии. Изучите аномально низкие значения, найдите день с наименьшим числом аренд. Найдите причину данной аномал"
   ]
  },
  {
   "cell_type": "markdown",
   "metadata": {},
   "source": [
    "В чём причина аномалий? Просмотрим датасет "
   ]
  },
  {
   "cell_type": "code",
   "execution_count": null,
   "metadata": {},
   "outputs": [
    {
     "name": "stdout",
     "output_type": "stream",
     "text": [
      "            timestamp_x  cnt_x    t1    t2    hum  wind_speed  weather_code  \\\n",
      "0   2015-03-29 00:00:00    395  10.0   8.0  72.75       30.75           4.0   \n",
      "1   2015-03-29 01:00:00      0  10.5   8.5  77.00       33.00           7.0   \n",
      "2   2015-03-29 03:00:00    282  10.0   7.0  85.00       25.00           7.0   \n",
      "3   2015-03-29 04:00:00    216  10.0   7.5  88.00       18.50           4.0   \n",
      "4   2015-03-29 05:00:00    112  11.0  11.0  74.50       23.00           4.0   \n",
      "..                  ...    ...   ...   ...    ...         ...           ...   \n",
      "497 2016-12-10 19:00:00    298  13.0  13.0  88.00       26.00           7.0   \n",
      "498 2016-12-10 20:00:00    203  12.0  12.0  91.00       25.00           7.0   \n",
      "499 2016-12-10 21:00:00    179  10.5   9.0  85.00       28.00           7.0   \n",
      "500 2016-12-10 22:00:00    332   9.0   6.5  87.00       17.00           7.0   \n",
      "501 2016-12-10 23:00:00    347   9.0   7.0  84.50       15.00           2.0   \n",
      "\n",
      "     is_holiday  is_weekend  season        date timestamp_y  cnt_y  \\\n",
      "0           0.0         1.0     0.0  2015-03-29  2015-03-29   8592   \n",
      "1           0.0         1.0     0.0  2015-03-29  2015-03-29   8592   \n",
      "2           0.0         1.0     0.0  2015-03-29  2015-03-29   8592   \n",
      "3           0.0         1.0     0.0  2015-03-29  2015-03-29   8592   \n",
      "4           0.0         1.0     0.0  2015-03-29  2015-03-29   8592   \n",
      "..          ...         ...     ...         ...         ...    ...   \n",
      "497         0.0         1.0     3.0  2016-12-10  2016-12-10  14832   \n",
      "498         0.0         1.0     3.0  2016-12-10  2016-12-10  14832   \n",
      "499         0.0         1.0     3.0  2016-12-10  2016-12-10  14832   \n",
      "500         0.0         1.0     3.0  2016-12-10  2016-12-10  14832   \n",
      "501         0.0         1.0     3.0  2016-12-10  2016-12-10  14832   \n",
      "\n",
      "      upper_board   lower_board  \n",
      "0    27092.513333   8858.153333  \n",
      "1    27092.513333   8858.153333  \n",
      "2    27092.513333   8858.153333  \n",
      "3    27092.513333   8858.153333  \n",
      "4    27092.513333   8858.153333  \n",
      "..            ...           ...  \n",
      "497  33421.180000  15186.820000  \n",
      "498  33421.180000  15186.820000  \n",
      "499  33421.180000  15186.820000  \n",
      "500  33421.180000  15186.820000  \n",
      "501  33421.180000  15186.820000  \n",
      "\n",
      "[502 rows x 15 columns]\n"
     ]
    },
    {
     "name": "stderr",
     "output_type": "stream",
     "text": [
      "C:\\Users\\User\\AppData\\Local\\Temp\\ipykernel_2656\\102976077.py:5: SettingWithCopyWarning: \n",
      "A value is trying to be set on a copy of a slice from a DataFrame.\n",
      "Try using .loc[row_indexer,col_indexer] = value instead\n",
      "\n",
      "See the caveats in the documentation: https://pandas.pydata.org/pandas-docs/stable/user_guide/indexing.html#returning-a-view-versus-a-copy\n",
      "  anomaly_by_day_low['date'] = anomaly_by_day_low['timestamp'].dt.date\n"
     ]
    }
   ],
   "source": [
    "data_london['date'] = data_london['timestamp'].dt.date\n",
    "\n",
    "anomaly_by_day_low['date'] = anomaly_by_day_low['timestamp'].dt.date\n",
    "\n",
    "result = data_london.merge(anomaly_by_day_low, on='date', how='inner')\n",
    "\n",
    "print(result)\n"
   ]
  },
  {
   "cell_type": "markdown",
   "metadata": {},
   "source": [
    "IS_weekend - везде 1 - значит это по выходным.\n",
    "\n",
    "В некоторые дни были забастовки в Лондоне\n",
    "Выходые дни в приоритете из-за желания проехаться на велосипеде по городу \n",
    "\n",
    "Причина аномалии - забастовки и выходные "
   ]
  },
  {
   "cell_type": "code",
   "execution_count": 91,
   "metadata": {},
   "outputs": [
    {
     "name": "stdout",
     "output_type": "stream",
     "text": [
      "            timestamp_x  cnt_x    t1    t2   hum  wind_speed  weather_code  \\\n",
      "0   2015-07-09 00:00:00    400  16.0  16.0  55.0        14.0           1.0   \n",
      "1   2015-07-09 01:00:00    212  15.5  15.5  59.0        14.0           1.0   \n",
      "2   2015-07-09 02:00:00    111  14.0  14.0  67.0        15.0           1.0   \n",
      "3   2015-07-09 03:00:00     81  14.0  14.0  63.0        18.5           1.0   \n",
      "4   2015-07-09 04:00:00     76  14.0  14.0  63.0        18.0           1.0   \n",
      "..                  ...    ...   ...   ...   ...         ...           ...   \n",
      "139 2016-12-25 19:00:00   1799  13.5  13.5  79.5        27.5           4.0   \n",
      "140 2016-12-25 20:00:00   1455  13.0  13.0  82.0        28.0           7.0   \n",
      "141 2016-12-25 21:00:00   1081  13.0  13.0  77.0        30.0           4.0   \n",
      "142 2016-12-25 22:00:00    885  13.0  13.0  77.0        29.5           4.0   \n",
      "143 2016-12-25 23:00:00    662  13.0  13.0  79.5        28.0           4.0   \n",
      "\n",
      "     is_holiday  is_weekend  season        date timestamp_y  cnt_y  \\\n",
      "0           0.0         0.0     1.0  2015-07-09  2015-07-09  72504   \n",
      "1           0.0         0.0     1.0  2015-07-09  2015-07-09  72504   \n",
      "2           0.0         0.0     1.0  2015-07-09  2015-07-09  72504   \n",
      "3           0.0         0.0     1.0  2015-07-09  2015-07-09  72504   \n",
      "4           0.0         0.0     1.0  2015-07-09  2015-07-09  72504   \n",
      "..          ...         ...     ...         ...         ...    ...   \n",
      "139         0.0         1.0     3.0  2016-12-25  2016-12-25  36653   \n",
      "140         0.0         1.0     3.0  2016-12-25  2016-12-25  36653   \n",
      "141         0.0         1.0     3.0  2016-12-25  2016-12-25  36653   \n",
      "142         0.0         1.0     3.0  2016-12-25  2016-12-25  36653   \n",
      "143         0.0         1.0     3.0  2016-12-25  2016-12-25  36653   \n",
      "\n",
      "      upper_board   lower_board  \n",
      "0    59822.180000  41587.820000  \n",
      "1    59822.180000  41587.820000  \n",
      "2    59822.180000  41587.820000  \n",
      "3    59822.180000  41587.820000  \n",
      "4    59822.180000  41587.820000  \n",
      "..            ...           ...  \n",
      "139  28767.846667  10533.486667  \n",
      "140  28767.846667  10533.486667  \n",
      "141  28767.846667  10533.486667  \n",
      "142  28767.846667  10533.486667  \n",
      "143  28767.846667  10533.486667  \n",
      "\n",
      "[144 rows x 15 columns]\n"
     ]
    },
    {
     "name": "stderr",
     "output_type": "stream",
     "text": [
      "C:\\Users\\User\\AppData\\Local\\Temp\\ipykernel_2656\\1313075416.py:5: SettingWithCopyWarning: \n",
      "A value is trying to be set on a copy of a slice from a DataFrame.\n",
      "Try using .loc[row_indexer,col_indexer] = value instead\n",
      "\n",
      "See the caveats in the documentation: https://pandas.pydata.org/pandas-docs/stable/user_guide/indexing.html#returning-a-view-versus-a-copy\n",
      "  anomaly_by_day_upp['timestamp'] = pd.to_datetime(anomaly_by_day_upp['timestamp'])\n",
      "C:\\Users\\User\\AppData\\Local\\Temp\\ipykernel_2656\\1313075416.py:9: SettingWithCopyWarning: \n",
      "A value is trying to be set on a copy of a slice from a DataFrame.\n",
      "Try using .loc[row_indexer,col_indexer] = value instead\n",
      "\n",
      "See the caveats in the documentation: https://pandas.pydata.org/pandas-docs/stable/user_guide/indexing.html#returning-a-view-versus-a-copy\n",
      "  anomaly_by_day_upp['date'] = anomaly_by_day_upp['timestamp'].dt.date\n"
     ]
    }
   ],
   "source": [
    "data_london['timestamp'] = pd.to_datetime(data_london['timestamp'])\n",
    "\n",
    "anomaly_by_day_upp['timestamp'] = pd.to_datetime(anomaly_by_day_upp['timestamp'])\n",
    "\n",
    "data_london['date'] = data_london['timestamp'].dt.date\n",
    "anomaly_by_day_upp['date'] = anomaly_by_day_upp['timestamp'].dt.date\n",
    "\n",
    "result = data_london.merge(anomaly_by_day_upp, on='date', how='inner')\n",
    "\n",
    "print(result)\n"
   ]
  },
  {
   "cell_type": "markdown",
   "metadata": {},
   "source": [
    "Недостаточно данных для выявления аномалий, поэтому не можем проверить аномалию на самом деле."
   ]
  }
 ],
 "metadata": {
  "kernelspec": {
   "display_name": "Python 3 (ipykernel)",
   "language": "python",
   "name": "python3"
  },
  "language_info": {
   "codemirror_mode": {
    "name": "ipython",
    "version": 3
   },
   "file_extension": ".py",
   "mimetype": "text/x-python",
   "name": "python",
   "nbconvert_exporter": "python",
   "pygments_lexer": "ipython3",
   "version": "3.11.7"
  }
 },
 "nbformat": 4,
 "nbformat_minor": 2
}
