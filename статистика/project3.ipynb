{
 "cells": [
  {
   "cell_type": "markdown",
   "metadata": {},
   "source": [
    "### Статистические выводы "
   ]
  },
  {
   "cell_type": "markdown",
   "metadata": {},
   "source": [
    "1. Загрузите данные, проверьте число наблюдений и столбцов, наличие пропусков. Убедитесь, что типы данных были прочитаны правильно. При необходимости – приведите переменные к нужным типам. \n",
    "\n",
    "2. Постройте график по числу поездок по дате и времени.\n",
    "\n",
    "3. Преобразуйте данные и посчитайте число поездок по дням. Визуализируйте результат. \n",
    "\n",
    "4. Используйте агрегированные данные по дням и посчитайте скользящее среднее с окном 3. В качестве ответа укажите полученное число аренд за 2015-07-09, округлив значение до целого.\n",
    "\n",
    "5. Посчитайте разницу между наблюдаемыми и значениями, подсчитанными с помощью скользящего среднего. Далее – найдите стандартное отклонение. \n",
    "\n",
    "6. Определите границы 99% доверительного интервала, добавьте данную информацию в датафрейм. \n",
    "\n",
    "7. Изучите аномально высокие значения и укажите день, когда число аренд было наибольшим. \n",
    "\n",
    "8. Найдите причину данной аномалии. Изучите аномально низкие значения, найдите день с наименьшим числом аренд. Найдите причину данной аномалии."
   ]
  },
  {
   "cell_type": "code",
   "execution_count": 2,
   "metadata": {},
   "outputs": [],
   "source": [
    "import pandas as pd\n",
    "import numpy as np\n",
    "import matplotlib.pyplot as plt\n",
    "import seaborn as sns\n",
    "import scipy.stats as stats\n",
    "import json \n",
    "import os\n",
    "\n",
    "from kaggle.api.kaggle_api_extended import KaggleApi"
   ]
  },
  {
   "cell_type": "code",
   "execution_count": 4,
   "metadata": {},
   "outputs": [
    {
     "name": "stdout",
     "output_type": "stream",
     "text": [
      "Dataset URL: https://www.kaggle.com/datasets/hmavrodiev/london-bike-sharing-dataset\n"
     ]
    }
   ],
   "source": [
    "os.chdir(\"C:/api\")\n",
    "data = {\"username\":\"username\",\"key\":\"tockenvalue\"}\n",
    "with open('kaggle.json', 'w') as outfile:\n",
    "    json.dump(data, outfile)\n",
    "\n",
    "api = KaggleApi('kaggle.json')\n",
    "api.authenticate()\n",
    "\n",
    "url = \"hmavrodiev/london-bike-sharing-dataset\"\n",
    "\n",
    "api.dataset_download_files(url, path=r'C:\\Users\\User\\notebooks\\analytic_karpov\\статистика\\datasets',\n",
    "                           unzip=True)                  "
   ]
  },
  {
   "cell_type": "code",
   "execution_count": 5,
   "metadata": {},
   "outputs": [],
   "source": [
    "url = r'C:\\Users\\User\\notebooks\\analytic_karpov\\статистика\\datasets\\london_merged.csv'"
   ]
  }
 ],
 "metadata": {
  "kernelspec": {
   "display_name": "Python 3 (ipykernel)",
   "language": "python",
   "name": "python3"
  },
  "language_info": {
   "codemirror_mode": {
    "name": "ipython",
    "version": 3
   },
   "file_extension": ".py",
   "mimetype": "text/x-python",
   "name": "python",
   "nbconvert_exporter": "python",
   "pygments_lexer": "ipython3",
   "version": "3.11.7"
  }
 },
 "nbformat": 4,
 "nbformat_minor": 2
}
